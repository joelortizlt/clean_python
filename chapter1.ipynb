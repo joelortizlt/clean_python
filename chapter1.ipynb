{
 "cells": [
  {
   "cell_type": "code",
   "execution_count": null,
   "metadata": {},
   "outputs": [],
   "source": [
    "#Listing 1-1. Variable Names\n",
    "names = \"Python\"                # variable name\n",
    "job_title = \"Software Engineer\" # variable name with underscore\n",
    "_books = {}                     # variable name to define private\n",
    "__dict = []                     # prevent name mangling with python in-build lib"
   ]
  },
  {
   "cell_type": "markdown",
   "metadata": {},
   "source": [
    "You should use one underscore (_) as a prefix for the internal variable of a class, \n",
    "where you don’t want an outside class to access the variable. "
   ]
  },
  {
   "cell_type": "code",
   "execution_count": null,
   "metadata": {},
   "outputs": [],
   "source": [
    "#Classes >> use camel case\n",
    "class UserInformation:\n",
    "\n",
    "#Constants >> use Capital letters\n",
    "TOTAL = 100"
   ]
  },
  {
   "cell_type": "code",
   "execution_count": null,
   "metadata": {},
   "outputs": [],
   "source": [
    "#there are costs to writing clever code: readability and simplicity.\n",
    "\n",
    "#Listing 1-9. Sort a Nested Dictionary \n",
    "users = [{\"first_name\":\"Helen\", \"age\":39},\n",
    "         {\"first_name\":\"Buck\", \"age\":10},\n",
    "         {\"first_name\":\"anni\", \"age\":9}\n",
    "        ]\n"
   ]
  },
  {
   "cell_type": "code",
   "execution_count": null,
   "metadata": {},
   "outputs": [],
   "source": [
    "users = sorted(users, key=lambda user: user[\"first_name\"].lower())\n",
    "#it’s not easy to understand this code at first glancer, this doesn’t make this code correct or readable\n",
    "#his code fails to address issues such as missing keys or if the dictionary is correct or not."
   ]
  }
 ],
 "metadata": {
  "interpreter": {
   "hash": "45dd0d87aa661e60c2f67ab0948bbc500fc1c12c99b6bd501ec4977173898fca"
  },
  "kernelspec": {
   "display_name": "Python 3.9.7 64-bit ('base': conda)",
   "language": "python",
   "name": "python3"
  },
  "language_info": {
   "name": "python",
   "version": "3.9.7"
  },
  "orig_nbformat": 4
 },
 "nbformat": 4,
 "nbformat_minor": 2
}
